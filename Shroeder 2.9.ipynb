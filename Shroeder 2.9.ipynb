{
 "metadata": {
  "name": "",
  "signature": "sha256:3a3aa35ec24e01b2605f6dbdda5c35dc920d040babd8f4adcdd6646d9bcc96fb"
 },
 "nbformat": 3,
 "nbformat_minor": 0,
 "worksheets": [
  {
   "cells": [
    {
     "cell_type": "heading",
     "level": 4,
     "metadata": {},
     "source": [
      "Problem 2.9"
     ]
    },
    {
     "cell_type": "raw",
     "metadata": {},
     "source": [
      "Use a computer to reproduce the table and graph in Figure 2.4: two Einstein solids, each containing three harmonic oscillators, with a total of six units of energy. Then modify the table and graph to show the case where one Einstein solid contains six harmonic oscillators and the other contains four harmonic oscillators (with the total number of energy units still equal to six). Assuming that all microstates are equally likely, what is the most probable macrostate, and what is its probability? What is the least probable macrostate, and what is its probability? "
     ]
    },
    {
     "cell_type": "markdown",
     "metadata": {},
     "source": [
      "We are given that with one Einstein solid containing six harmonic oscillators, and the other contains four harmonic oscillators with the total number of energy equal to six. "
     ]
    },
    {
     "cell_type": "markdown",
     "metadata": {},
     "source": [
      "So here we should use:\n",
      "    $$ \\Omega (N,q) = { (q+N-1) \\over {q!(N-1)!}}$$"
     ]
    },
    {
     "cell_type": "code",
     "collapsed": false,
     "input": [
      "import pandas as pd\n",
      "import numpy as np\n",
      "import scipy as sp\n",
      "import math   \n",
      "\n",
      "def mcity(q,n):\n",
      "    return (math.factorial(q+n-1))/(math.factorial(q)*math.factorial(n-1))\n",
      "\n",
      "qA= [0,1,2,3,4,5,6]\n",
      "qB = [0,1,2,3,4,5,6]\n",
      "omegaA=[float(mcity(i,6)) for i in xrange(7)]\n",
      "omegaB=[float(mcity(6-i,4)) for i in xrange(7)]\n",
      "omegaTotal=[a*b for a,b in zip(omegaA,omegaB)]"
     ],
     "language": "python",
     "metadata": {},
     "outputs": [],
     "prompt_number": 8
    },
    {
     "cell_type": "code",
     "collapsed": false,
     "input": [
      "data = {'$q_A$':qA, \n",
      "        '$\\Omega (N,q_A)$':omegaA,\n",
      "        '$q_B$':qB,\n",
      "        '$\\Omega (N,q_B)$':omegaB,\n",
      "        '$\\Omega_{total}$':omegaTotal}\n",
      "\n",
      "df = pd.DataFrame(data,columns=['$q_A$','$\\Omega (N,q_A)$','$q_B$','$\\Omega (N,q_B)$', '$\\Omega_{total}$'])\n",
      "df"
     ],
     "language": "python",
     "metadata": {},
     "outputs": [
      {
       "html": [
        "<div style=\"max-height:1000px;max-width:1500px;overflow:auto;\">\n",
        "<table border=\"1\" class=\"dataframe\">\n",
        "  <thead>\n",
        "    <tr style=\"text-align: right;\">\n",
        "      <th></th>\n",
        "      <th>$q_A$</th>\n",
        "      <th>$\\Omega (N,q_A)$</th>\n",
        "      <th>$q_B$</th>\n",
        "      <th>$\\Omega (N,q_B)$</th>\n",
        "      <th>$\\Omega_{total}$</th>\n",
        "    </tr>\n",
        "  </thead>\n",
        "  <tbody>\n",
        "    <tr>\n",
        "      <th>0</th>\n",
        "      <td> 0</td>\n",
        "      <td>   1</td>\n",
        "      <td> 0</td>\n",
        "      <td> 84</td>\n",
        "      <td>   84</td>\n",
        "    </tr>\n",
        "    <tr>\n",
        "      <th>1</th>\n",
        "      <td> 1</td>\n",
        "      <td>   6</td>\n",
        "      <td> 1</td>\n",
        "      <td> 56</td>\n",
        "      <td>  336</td>\n",
        "    </tr>\n",
        "    <tr>\n",
        "      <th>2</th>\n",
        "      <td> 2</td>\n",
        "      <td>  21</td>\n",
        "      <td> 2</td>\n",
        "      <td> 35</td>\n",
        "      <td>  735</td>\n",
        "    </tr>\n",
        "    <tr>\n",
        "      <th>3</th>\n",
        "      <td> 3</td>\n",
        "      <td>  56</td>\n",
        "      <td> 3</td>\n",
        "      <td> 20</td>\n",
        "      <td> 1120</td>\n",
        "    </tr>\n",
        "    <tr>\n",
        "      <th>4</th>\n",
        "      <td> 4</td>\n",
        "      <td> 126</td>\n",
        "      <td> 4</td>\n",
        "      <td> 10</td>\n",
        "      <td> 1260</td>\n",
        "    </tr>\n",
        "    <tr>\n",
        "      <th>5</th>\n",
        "      <td> 5</td>\n",
        "      <td> 252</td>\n",
        "      <td> 5</td>\n",
        "      <td>  4</td>\n",
        "      <td> 1008</td>\n",
        "    </tr>\n",
        "    <tr>\n",
        "      <th>6</th>\n",
        "      <td> 6</td>\n",
        "      <td> 462</td>\n",
        "      <td> 6</td>\n",
        "      <td>  1</td>\n",
        "      <td>  462</td>\n",
        "    </tr>\n",
        "  </tbody>\n",
        "</table>\n",
        "</div>"
       ],
       "metadata": {},
       "output_type": "pyout",
       "prompt_number": 9,
       "text": [
        "   $q_A$  $\\Omega (N,q_A)$  $q_B$  $\\Omega (N,q_B)$  $\\Omega_{total}$\n",
        "0      0                 1      0                84                84\n",
        "1      1                 6      1                56               336\n",
        "2      2                21      2                35               735\n",
        "3      3                56      3                20              1120\n",
        "4      4               126      4                10              1260\n",
        "5      5               252      5                 4              1008\n",
        "6      6               462      6                 1               462"
       ]
      }
     ],
     "prompt_number": 9
    },
    {
     "cell_type": "markdown",
     "metadata": {},
     "source": [
      "$ \\Omega_Total = $"
     ]
    },
    {
     "cell_type": "code",
     "collapsed": false,
     "input": [
      "sum(omegaTotal)"
     ],
     "language": "python",
     "metadata": {},
     "outputs": [
      {
       "metadata": {},
       "output_type": "pyout",
       "prompt_number": 10,
       "text": [
        "5005.0"
       ]
      }
     ],
     "prompt_number": 10
    },
    {
     "cell_type": "code",
     "collapsed": false,
     "input": [
      "import matplotlib.pyplot as plt\n",
      "%matplotlib inline\n",
      "plt.plot(qA,omegaTotal)\n",
      "plt.show()"
     ],
     "language": "python",
     "metadata": {},
     "outputs": [
      {
       "metadata": {},
       "output_type": "display_data",
       "png": "[encoded data removed]",
       "text": [
        "<matplotlib.figure.Figure at 0xae36a3cc>"
       ]
      }
     ],
     "prompt_number": 11
    },
    {
     "cell_type": "code",
     "collapsed": false,
     "input": [
      "maxvalue = max(omegaTotal)\n",
      "print omegaTotal.index(maxvalue)\n",
      "print 6-omegaTotal.index(maxvalue)"
     ],
     "language": "python",
     "metadata": {},
     "outputs": [
      {
       "output_type": "stream",
       "stream": "stdout",
       "text": [
        "4\n",
        "2\n"
       ]
      }
     ],
     "prompt_number": 13
    },
    {
     "cell_type": "code",
     "collapsed": false,
     "input": [
      "minvalue = min(omegaTotal)\n",
      "print omegaTotal.index(minvalue)\n",
      "print 6-omegaTotal.index(minvalue)"
     ],
     "language": "python",
     "metadata": {},
     "outputs": [
      {
       "output_type": "stream",
       "stream": "stdout",
       "text": [
        "0\n",
        "6\n"
       ]
      }
     ],
     "prompt_number": 16
    },
    {
     "cell_type": "markdown",
     "metadata": {},
     "source": [
      "The most probable macrostate: $$ q_A = 4 $$ $$ q_B = 2 $$ The probability is = $ {1260 \\over {5005}} = 25.17$%"
     ]
    },
    {
     "cell_type": "markdown",
     "metadata": {},
     "source": [
      "The least probable macrostate: $$ q_A = 0 $$ $$ q_B = 6 $$ The probability is = $ {84 \\over {5005}} = 1.68$%"
     ]
    },
    {
     "cell_type": "code",
     "collapsed": false,
     "input": [],
     "language": "python",
     "metadata": {},
     "outputs": []
    }
   ],
   "metadata": {}
  }
 ]
}